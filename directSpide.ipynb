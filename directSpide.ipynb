{
 "cells": [
  {
   "cell_type": "code",
   "execution_count": 2,
   "id": "bc6efe6f",
   "metadata": {},
   "outputs": [],
   "source": [
    "%load_ext autoreload"
   ]
  },
  {
   "cell_type": "code",
   "execution_count": 5,
   "id": "f4a15a5e",
   "metadata": {
    "scrolled": true
   },
   "outputs": [
    {
     "name": "stdout",
     "output_type": "stream",
     "text": [
      "﻿Bar Room 432\n",
      "Mother Courage\n",
      "Ramrod\n",
      "Cubby Hole / Henrietta Hudson\n",
      "Crazy Nanny's\n",
      "Paradise Garage\n",
      "Sea Colony\n",
      "Cubbyhole\n",
      "Uncle Charlie's\n",
      "Julius'\n",
      "Snake Pit\n",
      "Stonewall Inn\n",
      "Stewart's Cafeteria\n",
      "Duchess / Grove / Pandora's Box\n",
      "The Bagatelle\n",
      "Pfaff's\n",
      "Mad Hatter / Pony Stable Inn\n",
      "Mona's / Village Purple Onion\n",
      "Eve's Hangout\n",
      "Tony Pastor's Downtown / Gay Community Center\n",
      "Swing Rendezvous\n",
      "Pompier Restaurant / Tenth of Always / Bonnie & Clyde\n",
      "San Remo Cafe\n",
      "Black Rabbit\n",
      "The Slide\n",
      "Portofino\n",
      "City and Country School\n",
      "Little Red School House\n",
      "Elisabeth Irwin High School\n",
      "James Baldwin Residence\n",
      "Westbeth Artists' Housing\n",
      "Robert Rygor Residence\n",
      "Jimmie Daniels Residence\n",
      "Pauline Newman & Frieda Miller Residence\n",
      "Margaret Wise Brown Writing Studio\n",
      "Caroline Pratt & Helen Marot Residence\n",
      "Marion Dickerman & Nancy Cook Residence\n",
      "James Beard Residence\n",
      "Craig Rodwell Residence\n",
      "Arnie Kantrowitz Residence\n",
      "Lorraine Hansberry Residence\n",
      "H.M. Koutoukas Residence\n",
      "Hart Crane Residence\n",
      "Patricia Highsmith Residence\n",
      "Anna Rochester & Grace Hutchins Residence\n",
      "Berenice Abbott & Elizabeth McCausland Residence\n",
      "Edna St. Vincent Millay Residence\n",
      "Arthur Laurents & Tom Hatcher Residence\n",
      "Paul Taylor Residence\n",
      "Tharon Musser Residence\n",
      "Mills House No.1\n",
      "Djuna Barnes Residence\n",
      "Murray Hall Residence\n",
      "Lorraine Hansberry Residence\n",
      "Eleanor Roosevelt Residence\n",
      "Maurice Sendak Residence\n",
      "Luigi Lucioni Residence\n",
      "Phyllis Saperstein Residence\n",
      "Larry Kramer Residence\n",
      "Sam Wagstaff Residence\n",
      "Sam Morford Residence\n",
      "Vernon \"Copy\" Berg Residence\n",
      "Mary E. Dreier & Frances A. Kellor Residence\n",
      "David Mancuso Residence\n",
      "Lee G. Brewster's Mardi Gras Boutique\n",
      "Labyris\n",
      "Djuna Books\n",
      "Oscar Wilde Memorial Bookshop\n",
      "Antonio Lopez & Juan Ramos Studio\n",
      "The Triangle Fire\n",
      "Keith Haring Studio & Foundation\n",
      "Louis Sullivan & the Bayard-Condict Building\n"
     ]
    }
   ],
   "source": [
    "%autoreload\n",
    "import os\n",
    "import GoogleSpider\n",
    "global query\n",
    "\n",
    "import csv\n",
    "\n",
    "resultFolder = 'result'\n",
    "isExists=os.path.exists(resultFolder)\n",
    "if not isExists:\n",
    "    os.makedirs(resultFolder) \n",
    "    \n",
    "with open(\"keywords.csv\",\"r\") as csvfile:\n",
    "    reader = csv.reader(csvfile)\n",
    "    for line in reader:\n",
    "        GoogleSpider.search(resultFolder,line[0],page=10)\n",
    "        \n"
   ]
  },
  {
   "cell_type": "code",
   "execution_count": null,
   "id": "228fa4cc",
   "metadata": {},
   "outputs": [],
   "source": []
  }
 ],
 "metadata": {
  "kernelspec": {
   "display_name": "base",
   "language": "python",
   "name": "base"
  },
  "language_info": {
   "codemirror_mode": {
    "name": "ipython",
    "version": 3
   },
   "file_extension": ".py",
   "mimetype": "text/x-python",
   "name": "python",
   "nbconvert_exporter": "python",
   "pygments_lexer": "ipython3",
   "version": "3.7.10"
  }
 },
 "nbformat": 4,
 "nbformat_minor": 5
}
