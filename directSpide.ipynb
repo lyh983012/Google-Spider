{
 "cells": [
  {
   "cell_type": "code",
   "execution_count": 1,
   "id": "bc6efe6f",
   "metadata": {},
   "outputs": [],
   "source": [
    "%load_ext autoreload"
   ]
  },
  {
   "cell_type": "code",
   "execution_count": null,
   "id": "f4a15a5e",
   "metadata": {
    "scrolled": true
   },
   "outputs": [
    {
     "name": "stdout",
     "output_type": "stream",
     "text": [
      "items: 1  is recorded\n",
      "重试\n"
     ]
    }
   ],
   "source": [
    "%autoreload\n",
    "import os\n",
    "import GoogleSpider\n",
    "global query\n",
    "\n",
    "import csv\n",
    "\n",
    "resultFolder = 'result'\n",
    "isExists=os.path.exists(resultFolder)\n",
    "if not isExists:\n",
    "    os.makedirs(resultFolder) \n",
    "    \n",
    "with open(\"keywords.csv\",\"r\") as csvfile:\n",
    "    reader = csv.reader(csvfile)\n",
    "    for line in reader:\n",
    "        GoogleSpider.search(resultFolder,line[0],itemnum=24)\n",
    "        \n"
   ]
  },
  {
   "cell_type": "code",
   "execution_count": null,
   "id": "00058bb8",
   "metadata": {},
   "outputs": [],
   "source": []
  }
 ],
 "metadata": {
  "kernelspec": {
   "display_name": "base",
   "language": "python",
   "name": "base"
  },
  "language_info": {
   "codemirror_mode": {
    "name": "ipython",
    "version": 3
   },
   "file_extension": ".py",
   "mimetype": "text/x-python",
   "name": "python",
   "nbconvert_exporter": "python",
   "pygments_lexer": "ipython3",
   "version": "3.7.10"
  }
 },
 "nbformat": 4,
 "nbformat_minor": 5
}
