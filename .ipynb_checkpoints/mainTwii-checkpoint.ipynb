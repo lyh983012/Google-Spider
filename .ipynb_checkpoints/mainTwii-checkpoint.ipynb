{
 "cells": [
  {
   "cell_type": "code",
   "execution_count": 1,
   "id": "bc6efe6f",
   "metadata": {},
   "outputs": [],
   "source": [
    "%load_ext autoreload"
   ]
  },
  {
   "cell_type": "code",
   "execution_count": 2,
   "id": "f4a15a5e",
   "metadata": {
    "scrolled": true
   },
   "outputs": [
    {
     "name": "stdout",
     "output_type": "stream",
     "text": [
      "HTTPSConnectionPool(host='twitter.com', port=443): Max retries exceeded with url: /search?q=lgbt&src=typed_query&f=live (Caused by ProxyError('Cannot connect to proxy.', OSError(0, 'Error')))\n",
      "HTTPSConnectionPool(host='twitter.com', port=443): Max retries exceeded with url: /search?q=lgbt&src=typed_query&f=live (Caused by ProxyError('Cannot connect to proxy.', OSError(0, 'Error')))\n",
      "HTTPSConnectionPool(host='twitter.com', port=443): Max retries exceeded with url: /search?q=lgbt&src=typed_query&f=live (Caused by ProxyError('Cannot connect to proxy.', OSError(0, 'Error')))\n",
      "HTTPSConnectionPool(host='twitter.com', port=443): Max retries exceeded with url: /search?q=lgbt&src=typed_query&f=live (Caused by ProxyError('Cannot connect to proxy.', OSError(0, 'Error')))\n"
     ]
    },
    {
     "ename": "KeyboardInterrupt",
     "evalue": "",
     "output_type": "error",
     "traceback": [
      "\u001b[0;31m---------------------------------------------------------------------------\u001b[0m",
      "\u001b[0;31mKeyboardInterrupt\u001b[0m                         Traceback (most recent call last)",
      "\u001b[0;32m/var/folders/q9/w0l08v3s18n2z_gsznmbq7hh0000gn/T/ipykernel_19510/1260270995.py\u001b[0m in \u001b[0;36m<module>\u001b[0;34m\u001b[0m\n\u001b[1;32m     12\u001b[0m \u001b[0;34m\u001b[0m\u001b[0m\n\u001b[1;32m     13\u001b[0m \u001b[0mlistOfkey\u001b[0m \u001b[0;34m=\u001b[0m \u001b[0;34m[\u001b[0m\u001b[0;34m]\u001b[0m\u001b[0;34m\u001b[0m\u001b[0;34m\u001b[0m\u001b[0m\n\u001b[0;32m---> 14\u001b[0;31m \u001b[0mTwitterSpider\u001b[0m\u001b[0;34m.\u001b[0m\u001b[0msearch\u001b[0m\u001b[0;34m(\u001b[0m\u001b[0mresultFolder\u001b[0m\u001b[0;34m,\u001b[0m\u001b[0;34m'lgbt'\u001b[0m\u001b[0;34m,\u001b[0m\u001b[0mitemnum\u001b[0m\u001b[0;34m=\u001b[0m\u001b[0;36m5\u001b[0m\u001b[0;34m)\u001b[0m\u001b[0;34m\u001b[0m\u001b[0;34m\u001b[0m\u001b[0m\n\u001b[0m",
      "\u001b[0;32m~/pyprojects/Google-Spider/TwitterSpider.py\u001b[0m in \u001b[0;36msearch\u001b[0;34m(resultFolder, query, itemnum)\u001b[0m\n",
      "\u001b[0;31mKeyboardInterrupt\u001b[0m: "
     ]
    }
   ],
   "source": [
    "import tweepy\n",
    "\n",
    "auth = tweepy.OAuthHandler(consumer_key, consumer_secret)\n",
    "auth.set_access_token(access_token, access_token_secret)\n",
    "\n",
    "api = tweepy.API(auth)\n",
    "\n",
    "public_tweets = api.home_timeline()\n",
    "for tweet in public_tweets:\n",
    "    print(tweet.text)"
   ]
  },
  {
   "cell_type": "code",
   "execution_count": null,
   "id": "538095f2",
   "metadata": {},
   "outputs": [],
   "source": []
  }
 ],
 "metadata": {
  "kernelspec": {
   "display_name": "base",
   "language": "python",
   "name": "base"
  },
  "language_info": {
   "codemirror_mode": {
    "name": "ipython",
    "version": 3
   },
   "file_extension": ".py",
   "mimetype": "text/x-python",
   "name": "python",
   "nbconvert_exporter": "python",
   "pygments_lexer": "ipython3",
   "version": "3.7.10"
  }
 },
 "nbformat": 4,
 "nbformat_minor": 5
}
