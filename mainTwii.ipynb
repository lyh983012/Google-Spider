{
 "cells": [
  {
   "cell_type": "code",
   "execution_count": 1,
   "id": "bc6efe6f",
   "metadata": {},
   "outputs": [],
   "source": [
    "%load_ext autoreload"
   ]
  },
  {
   "cell_type": "markdown",
   "id": "442aa707",
   "metadata": {},
   "source": [
    "https://www.scraping-bot.io/web-scraping-documentation/"
   ]
  },
  {
   "cell_type": "code",
   "execution_count": 2,
   "id": "f4a15a5e",
   "metadata": {
    "scrolled": true
   },
   "outputs": [
    {
     "name": "stdout",
     "output_type": "stream",
     "text": [
      "<html>\n",
      "  <head>\n",
      "    <meta name=\"robots\" content=\"noindex\">\n",
      "  </head>\n",
      "  <body>\n",
      "    <h1>Here is my title</h1>\n",
      "    <p>\n",
      "        This is the content of my paragraph\n",
      "    </p>\n",
      "  </body>\n",
      "</html>\n"
     ]
    }
   ],
   "source": [
    "%autoreload\n",
    "import requests\n",
    "import json\n",
    "\n",
    "url='https://www.scraping-bot.io/rawHtmlPage.html'\n",
    "username = 'ordinarabbit'\n",
    "apiKey = 'C4EIAF9XMpr7fiwVJMBWZbBDg'\n",
    "\n",
    "apiUrl = \"http://api.scraping-bot.io/scrape/raw-html\"\n",
    "\n",
    "payload = json.dumps({\"url\":url})\n",
    "headers = {\n",
    "    'Content-Type': \"application/json\"\n",
    "}\n",
    "\n",
    "response = requests.request(\"POST\", apiUrl, data=payload, auth=(username,apiKey), headers=headers)\n",
    "\n",
    "print(response.text)"
   ]
  },
  {
   "cell_type": "code",
   "execution_count": 3,
   "id": "538095f2",
   "metadata": {},
   "outputs": [
    {
     "name": "stdout",
     "output_type": "stream",
     "text": [
      "<html>\n",
      "  <head>\n",
      "    <meta name=\"robots\" content=\"noindex\">\n",
      "  </head>\n",
      "  <body>\n",
      "    <h1>Here is my title</h1>\n",
      "    <p>\n",
      "        This is the content of my paragraph\n",
      "    </p>\n",
      "  </body>\n",
      "</html>\n"
     ]
    }
   ],
   "source": [
    "import requests\n",
    "import json\n",
    "\n",
    "url='https://www.scraping-bot.io/rawHtmlPage.html'\n",
    "username = 'ordinarabbit'\n",
    "apiKey = 'C4EIAF9XMpr7fiwVJMBWZbBDg'\n",
    "\n",
    "apiUrl = \"http://api.scraping-bot.io/scrape/raw-html\"\n",
    "\n",
    "payload = json.dumps({\"url\":url})\n",
    "headers = {\n",
    "    'Content-Type': \"application/json\"\n",
    "}\n",
    "\n",
    "response = requests.request(\"POST\", apiUrl, data=payload, auth=(username,apiKey), headers=headers)\n",
    "\n",
    "print(response.text)"
   ]
  },
  {
   "cell_type": "code",
   "execution_count": null,
   "id": "1404965b",
   "metadata": {},
   "outputs": [],
   "source": []
  }
 ],
 "metadata": {
  "kernelspec": {
   "display_name": "base",
   "language": "python",
   "name": "base"
  },
  "language_info": {
   "codemirror_mode": {
    "name": "ipython",
    "version": 3
   },
   "file_extension": ".py",
   "mimetype": "text/x-python",
   "name": "python",
   "nbconvert_exporter": "python",
   "pygments_lexer": "ipython3",
   "version": "3.7.10"
  }
 },
 "nbformat": 4,
 "nbformat_minor": 5
}
