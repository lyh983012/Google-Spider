{
 "cells": [
  {
   "cell_type": "code",
   "execution_count": 2,
   "id": "bc6efe6f",
   "metadata": {},
   "outputs": [],
   "source": [
    "%load_ext autoreload"
   ]
  },
  {
   "cell_type": "code",
   "execution_count": null,
   "id": "f4a15a5e",
   "metadata": {
    "scrolled": true
   },
   "outputs": [
    {
     "name": "stdout",
     "output_type": "stream",
     "text": [
      "searching: ﻿Bar Room 432\n",
      "重试\n",
      "result_num: 32,400,000\n",
      "progress: 1  items has been recorded\n",
      "progress: 9  items has been recorded\n",
      "progress: 17  items has been recorded\n",
      "searching: Mother Courage\n",
      "result_num: 147,000,000\n",
      "progress: 1  items has been recorded\n",
      "progress: 9  items has been recorded\n",
      "progress: 17  items has been recorded\n",
      "searching: Ramrod\n",
      "result_num: 14,100,000\n",
      "progress: 1  items has been recorded\n",
      "progress: 9  items has been recorded\n",
      "progress: 17  items has been recorded\n",
      "searching: Cubby Hole / Henrietta Hudson\n",
      "result_num: 374,000\n",
      "progress: 1  items has been recorded\n",
      "progress: 9  items has been recorded\n"
     ]
    }
   ],
   "source": [
    "%autoreload\n",
    "import os\n",
    "import GoogleSpider\n",
    "global query\n",
    "\n",
    "import csv\n",
    "\n",
    "resultFolder = 'result'\n",
    "isExists=os.path.exists(resultFolder)\n",
    "if not isExists:\n",
    "    os.makedirs(resultFolder) \n",
    "    \n",
    "listOfkey = []\n",
    "with open(\"keywords.csv\",\"r\") as csvfile:\n",
    "    reader = csv.reader(csvfile)\n",
    "    for line in reader:\n",
    "        print('searching:',line[0])\n",
    "        num = GoogleSpider.search(resultFolder,line[0],itemnum=24)\n",
    "        listOfkey.append([line[0],num])\n"
   ]
  },
  {
   "cell_type": "code",
   "execution_count": null,
   "id": "538095f2",
   "metadata": {},
   "outputs": [],
   "source": []
  }
 ],
 "metadata": {
  "kernelspec": {
   "display_name": "base",
   "language": "python",
   "name": "base"
  },
  "language_info": {
   "codemirror_mode": {
    "name": "ipython",
    "version": 3
   },
   "file_extension": ".py",
   "mimetype": "text/x-python",
   "name": "python",
   "nbconvert_exporter": "python",
   "pygments_lexer": "ipython3",
   "version": "3.7.10"
  }
 },
 "nbformat": 4,
 "nbformat_minor": 5
}
