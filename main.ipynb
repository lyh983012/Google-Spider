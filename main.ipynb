{
 "cells": [
  {
   "cell_type": "code",
   "execution_count": 2,
   "id": "bc6efe6f",
   "metadata": {},
   "outputs": [],
   "source": [
    "%load_ext autoreload"
   ]
  },
  {
   "cell_type": "code",
   "execution_count": null,
   "id": "f4a15a5e",
   "metadata": {
    "scrolled": true
   },
   "outputs": [
    {
     "name": "stdout",
     "output_type": "stream",
     "text": [
      "searching: ﻿Bar Room 432\n",
      "重试\n",
      "result_num: 32,400,000\n",
      "progress: 1  items has been recorded\n",
      "progress: 9  items has been recorded\n",
      "progress: 17  items has been recorded\n",
      "searching: Mother Courage\n",
      "result_num: 147,000,000\n",
      "progress: 1  items has been recorded\n",
      "progress: 9  items has been recorded\n",
      "progress: 17  items has been recorded\n",
      "searching: Ramrod\n",
      "result_num: 14,100,000\n",
      "progress: 1  items has been recorded\n",
      "progress: 9  items has been recorded\n",
      "progress: 17  items has been recorded\n",
      "searching: Cubby Hole / Henrietta Hudson\n",
      "result_num: 374,000\n",
      "progress: 1  items has been recorded\n",
      "progress: 9  items has been recorded\n",
      "progress: 17  items has been recorded\n",
      "searching: Crazy Nanny's\n",
      "result_num: 27,700,000\n",
      "progress: 1  items has been recorded\n",
      "progress: 9  items has been recorded\n",
      "progress: 17  items has been recorded\n",
      "searching: Paradise Garage\n",
      "result_num: 29,900,000\n",
      "progress: 1  items has been recorded\n",
      "progress: 9  items has been recorded\n",
      "progress: 17  items has been recorded\n",
      "searching: Sea Colony\n",
      "result_num: 136,000,000\n",
      "progress: 1  items has been recorded\n",
      "progress: 9  items has been recorded\n",
      "progress: 17  items has been recorded\n",
      "searching: Cubbyhole\n",
      "result_num: 2,610,000\n",
      "progress: 1  items has been recorded\n",
      "progress: 9  items has been recorded\n",
      "progress: 17  items has been recorded\n",
      "searching: Uncle Charlie's\n",
      "result_num: 3,880,000\n",
      "progress: 1  items has been recorded\n",
      "progress: 9  items has been recorded\n",
      "progress: 17  items has been recorded\n",
      "searching: Julius'\n",
      "result_num: 285,000,000\n",
      "progress: 1  items has been recorded\n",
      "progress: 9  items has been recorded\n",
      "progress: 17  items has been recorded\n",
      "searching: Snake Pit\n",
      "result_num: 32,700,000\n",
      "progress: 1  items has been recorded\n",
      "progress: 9  items has been recorded\n",
      "progress: 17  items has been recorded\n",
      "searching: Stonewall Inn\n",
      "result_num: 12,400,000\n",
      "progress: 1  items has been recorded\n",
      "progress: 9  items has been recorded\n",
      "progress: 17  items has been recorded\n",
      "searching: Stewart's Cafeteria\n",
      "result_num: 3,210,000\n",
      "progress: 1  items has been recorded\n",
      "progress: 9  items has been recorded\n",
      "progress: 17  items has been recorded\n",
      "searching: Duchess / Grove / Pandora's Box\n",
      "result_num: 1,170,000\n",
      "progress: 1  items has been recorded\n",
      "progress: 9  items has been recorded\n",
      "progress: 17  items has been recorded\n",
      "searching: The Bagatelle\n",
      "result_num: 10,800,000\n",
      "progress: 1  items has been recorded\n",
      "progress: 9  items has been recorded\n",
      "progress: 17  items has been recorded\n",
      "searching: Pfaff's\n"
     ]
    }
   ],
   "source": [
    "%autoreload\n",
    "import os\n",
    "import GoogleSpider\n",
    "global query\n",
    "\n",
    "import csv\n",
    "\n",
    "resultFolder = 'result'\n",
    "isExists=os.path.exists(resultFolder)\n",
    "if not isExists:\n",
    "    os.makedirs(resultFolder) \n",
    "    \n",
    "listOfkey = []\n",
    "with open(\"keywords.csv\",\"r\") as csvfile:\n",
    "    reader = csv.reader(csvfile)\n",
    "    for line in reader:\n",
    "        print('searching:',line[0])\n",
    "        num = GoogleSpider.search(resultFolder,line[0],itemnum=24)\n",
    "        listOfkey.append([line[0],num])\n"
   ]
  },
  {
   "cell_type": "code",
   "execution_count": null,
   "id": "538095f2",
   "metadata": {},
   "outputs": [],
   "source": []
  }
 ],
 "metadata": {
  "kernelspec": {
   "display_name": "base",
   "language": "python",
   "name": "base"
  },
  "language_info": {
   "codemirror_mode": {
    "name": "ipython",
    "version": 3
   },
   "file_extension": ".py",
   "mimetype": "text/x-python",
   "name": "python",
   "nbconvert_exporter": "python",
   "pygments_lexer": "ipython3",
   "version": "3.7.10"
  }
 },
 "nbformat": 4,
 "nbformat_minor": 5
}
