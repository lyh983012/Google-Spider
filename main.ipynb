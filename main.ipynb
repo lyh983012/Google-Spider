{
 "cells": [
  {
   "cell_type": "code",
   "execution_count": 1,
   "id": "bc6efe6f",
   "metadata": {},
   "outputs": [],
   "source": [
    "%load_ext autoreload"
   ]
  },
  {
   "cell_type": "code",
   "execution_count": 2,
   "id": "f4a15a5e",
   "metadata": {
    "scrolled": true
   },
   "outputs": [
    {
     "name": "stdout",
     "output_type": "stream",
     "text": [
      "Cultural Specifier: N\n",
      "Now searching:  Bar Room 432 432 WEST 14TH STREET\n",
      "result_num: 18700000\n",
      "progress: 11  items has been recorded\n",
      "progress: 31  items has been recorded\n",
      "Cultural Specifier: G\n",
      "Now searching:  Mother Courage 342 WEST 11TH STREET Greenwich\n",
      "result_num: 404000\n",
      "progress: 9  items has been recorded\n",
      "progress: 27  items has been recorded\n",
      "Cultural Specifier: YG\n",
      "Now searching:  Ramrod Bar 394-395 WEST STREET Greenwich LGBT\n",
      "result_num: 66400\n",
      "progress: 4  items has been recorded\n",
      "progress: 7  items has been recorded\n",
      "progress: 10  items has been recorded\n",
      "progress: 13  items has been recorded\n",
      "progress: 16  items has been recorded\n",
      "progress: 19  items has been recorded\n",
      "progress: 22  items has been recorded\n",
      "progress: 25  items has been recorded\n",
      "Cultural Specifier: N\n",
      "Now searching:  Cubby Hole 438-444 HUDSON STREET\n",
      "result_num: 10\n",
      "progress: 9  items has been recorded\n",
      "progress: 17  items has been recorded\n",
      "progress: 25  items has been recorded\n",
      "Cultural Specifier: N\n",
      "Now searching:  Henrietta Hudson 438-444 HUDSON STREET\n",
      "result_num: 6440\n",
      "progress: 9  items has been recorded\n",
      "progress: 17  items has been recorded\n",
      "progress: 25  items has been recorded\n",
      "Cultural Specifier: G\n",
      "Now searching:  Crazy Nanny's 21 SEVENTH AVENUE SOUTH Greenwich\n"
     ]
    },
    {
     "ename": "KeyboardInterrupt",
     "evalue": "",
     "output_type": "error",
     "traceback": [
      "\u001b[0;31m---------------------------------------------------------------------------\u001b[0m",
      "\u001b[0;31mKeyboardInterrupt\u001b[0m                         Traceback (most recent call last)",
      "\u001b[0;32m/var/folders/q9/w0l08v3s18n2z_gsznmbq7hh0000gn/T/ipykernel_63205/1229540244.py\u001b[0m in \u001b[0;36m<module>\u001b[0;34m\u001b[0m\n\u001b[1;32m     29\u001b[0m             \u001b[0mkeywordsAndAddr\u001b[0m \u001b[0;34m+=\u001b[0m \u001b[0;34m\" LGBT\"\u001b[0m\u001b[0;34m\u001b[0m\u001b[0;34m\u001b[0m\u001b[0m\n\u001b[1;32m     30\u001b[0m         \u001b[0mprint\u001b[0m\u001b[0;34m(\u001b[0m\u001b[0;34m\"Now searching: \"\u001b[0m\u001b[0;34m,\u001b[0m\u001b[0mkeywordsAndAddr\u001b[0m\u001b[0;34m)\u001b[0m\u001b[0;34m\u001b[0m\u001b[0;34m\u001b[0m\u001b[0m\n\u001b[0;32m---> 31\u001b[0;31m         \u001b[0mnum\u001b[0m \u001b[0;34m=\u001b[0m \u001b[0mGoogleSpider\u001b[0m\u001b[0;34m.\u001b[0m\u001b[0msearch\u001b[0m\u001b[0;34m(\u001b[0m\u001b[0mresultFolder\u001b[0m\u001b[0;34m,\u001b[0m\u001b[0mkeywordsAndAddr\u001b[0m\u001b[0;34m,\u001b[0m\u001b[0mitemnum\u001b[0m\u001b[0;34m=\u001b[0m\u001b[0;36m24\u001b[0m\u001b[0;34m)\u001b[0m\u001b[0;34m\u001b[0m\u001b[0;34m\u001b[0m\u001b[0m\n\u001b[0m\u001b[1;32m     32\u001b[0m         \u001b[0mlistOfkey\u001b[0m\u001b[0;34m.\u001b[0m\u001b[0mappend\u001b[0m\u001b[0;34m(\u001b[0m\u001b[0;34m[\u001b[0m\u001b[0mline\u001b[0m\u001b[0;34m[\u001b[0m\u001b[0;36m0\u001b[0m\u001b[0;34m]\u001b[0m\u001b[0;34m,\u001b[0m\u001b[0mnum\u001b[0m\u001b[0;34m]\u001b[0m\u001b[0;34m)\u001b[0m\u001b[0;34m\u001b[0m\u001b[0;34m\u001b[0m\u001b[0m\n",
      "\u001b[0;32m~/pyprojects/Google-Spider/GoogleSpider.py\u001b[0m in \u001b[0;36msearch\u001b[0;34m(resultFolder, query, itemnum)\u001b[0m\n\u001b[1;32m     40\u001b[0m             \u001b[0mproxies\u001b[0m \u001b[0;34m=\u001b[0m \u001b[0;34m{\u001b[0m\u001b[0;34m'http'\u001b[0m\u001b[0;34m:\u001b[0m\u001b[0;34m'http://127.0.0.1:7890'\u001b[0m\u001b[0;34m}\u001b[0m\u001b[0;34m\u001b[0m\u001b[0;34m\u001b[0m\u001b[0m\n\u001b[1;32m     41\u001b[0m             \u001b[0mresp\u001b[0m \u001b[0;34m=\u001b[0m \u001b[0mrequests\u001b[0m\u001b[0;34m.\u001b[0m\u001b[0mget\u001b[0m\u001b[0;34m(\u001b[0m\u001b[0mURL\u001b[0m\u001b[0;34m,\u001b[0m \u001b[0mheaders\u001b[0m\u001b[0;34m=\u001b[0m\u001b[0mheaders\u001b[0m\u001b[0;34m,\u001b[0m \u001b[0mverify\u001b[0m\u001b[0;34m=\u001b[0m\u001b[0;32mFalse\u001b[0m\u001b[0;34m,\u001b[0m\u001b[0mproxies\u001b[0m\u001b[0;34m=\u001b[0m\u001b[0mproxies\u001b[0m\u001b[0;34m)\u001b[0m\u001b[0;34m\u001b[0m\u001b[0;34m\u001b[0m\u001b[0m\n\u001b[0;32m---> 42\u001b[0;31m             \u001b[0mtime\u001b[0m\u001b[0;34m.\u001b[0m\u001b[0msleep\u001b[0m\u001b[0;34m(\u001b[0m\u001b[0;36m5\u001b[0m\u001b[0;34m)\u001b[0m\u001b[0;34m\u001b[0m\u001b[0;34m\u001b[0m\u001b[0m\n\u001b[0m\u001b[1;32m     43\u001b[0m             \u001b[0;32mif\u001b[0m \u001b[0mresp\u001b[0m\u001b[0;34m.\u001b[0m\u001b[0mstatus_code\u001b[0m \u001b[0;34m==\u001b[0m \u001b[0;36m200\u001b[0m\u001b[0;34m:\u001b[0m\u001b[0;34m\u001b[0m\u001b[0;34m\u001b[0m\u001b[0m\n\u001b[1;32m     44\u001b[0m                 \u001b[0msoup\u001b[0m \u001b[0;34m=\u001b[0m \u001b[0mBeautifulSoup\u001b[0m\u001b[0;34m(\u001b[0m\u001b[0mresp\u001b[0m\u001b[0;34m.\u001b[0m\u001b[0mcontent\u001b[0m\u001b[0;34m,\u001b[0m \u001b[0;34m\"html.parser\"\u001b[0m\u001b[0;34m)\u001b[0m\u001b[0;34m\u001b[0m\u001b[0;34m\u001b[0m\u001b[0m\n",
      "\u001b[0;31mKeyboardInterrupt\u001b[0m: "
     ]
    }
   ],
   "source": [
    "%autoreload\n",
    "import os\n",
    "import GoogleSpider\n",
    "global query\n",
    "\n",
    "import csv\n",
    "\n",
    "resultFolder = 'result'\n",
    "isExists=os.path.exists(resultFolder)\n",
    "if not isExists:\n",
    "    os.makedirs(resultFolder) \n",
    "    \n",
    "listOfkey = []\n",
    "ifHasTitleCol = True\n",
    "\n",
    "with open(\"keywords_hy.csv\",\"r\") as csvfile:\n",
    "    reader = csv.reader(csvfile)\n",
    "    for line in reader:\n",
    "        if ifHasTitleCol:\n",
    "            ifHasTitleCol = False\n",
    "            continue \n",
    "            \n",
    "        keywordsAndAddr = line[0]+' '+line[1]\n",
    "        Specifier = line[4]\n",
    "        print(\"Cultural Specifier:\",Specifier)\n",
    "        if 'G' in Specifier:\n",
    "            keywordsAndAddr += \" Greenwich\"\n",
    "        if 'Y' in Specifier:\n",
    "            keywordsAndAddr += \" LGBT\"\n",
    "        print(\"Now searching: \",keywordsAndAddr)\n",
    "        num = GoogleSpider.search(resultFolder,keywordsAndAddr,itemnum=24)\n",
    "        listOfkey.append([line[0],num])\n"
   ]
  },
  {
   "cell_type": "code",
   "execution_count": null,
   "id": "538095f2",
   "metadata": {},
   "outputs": [],
   "source": []
  }
 ],
 "metadata": {
  "kernelspec": {
   "display_name": "base",
   "language": "python",
   "name": "base"
  },
  "language_info": {
   "codemirror_mode": {
    "name": "ipython",
    "version": 3
   },
   "file_extension": ".py",
   "mimetype": "text/x-python",
   "name": "python",
   "nbconvert_exporter": "python",
   "pygments_lexer": "ipython3",
   "version": "3.7.10"
  }
 },
 "nbformat": 4,
 "nbformat_minor": 5
}
